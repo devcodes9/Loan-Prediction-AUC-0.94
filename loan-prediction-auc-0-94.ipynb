{
 "cells": [
  {
   "cell_type": "code",
   "execution_count": 1,
   "id": "a23702db",
   "metadata": {
    "_cell_guid": "b1076dfc-b9ad-4769-8c92-a6c4dae69d19",
    "_uuid": "8f2839f25d086af736a60e9eeb907d3b93b6e0e5",
    "execution": {
     "iopub.execute_input": "2021-10-09T18:07:01.616290Z",
     "iopub.status.busy": "2021-10-09T18:07:01.615167Z",
     "iopub.status.idle": "2021-10-09T18:07:03.160718Z",
     "shell.execute_reply": "2021-10-09T18:07:03.161465Z",
     "shell.execute_reply.started": "2021-10-09T17:11:41.44653Z"
    },
    "papermill": {
     "duration": 1.575127,
     "end_time": "2021-10-09T18:07:03.161858",
     "exception": false,
     "start_time": "2021-10-09T18:07:01.586731",
     "status": "completed"
    },
    "tags": []
   },
   "outputs": [
    {
     "name": "stdout",
     "output_type": "stream",
     "text": [
      "/kaggle/input/loan-prediction-based-on-customer-behavior/Test Data.csv\n",
      "/kaggle/input/loan-prediction-based-on-customer-behavior/Training Data.csv\n",
      "/kaggle/input/loan-prediction-based-on-customer-behavior/Sample Prediction Dataset.csv\n"
     ]
    }
   ],
   "source": [
    "# This Python 3 environment comes with many helpful analytics libraries installed\n",
    "# It is defined by the kaggle/python Docker image: https://github.com/kaggle/docker-python\n",
    "# For example, here's several helpful packages to load\n",
    "\n",
    "import numpy as np # linear algebra\n",
    "import pandas as pd# data processing, CSV file I/O (e.g. pd.read_csv)\n",
    "import seaborn as sns\n",
    "import matplotlib.pyplot as plt  \n",
    "from collections import Counter\n",
    "\n",
    "#Importing Models\n",
    "\n",
    "from sklearn.linear_model import LogisticRegression\n",
    "from sklearn.neighbors import KNeighborsClassifier\n",
    "from sklearn.ensemble import RandomForestClassifier\n",
    "from sklearn.cluster import KMeans\n",
    "from xgboost import XGBClassifier\n",
    "\n",
    "#Importing preprocessors\n",
    "\n",
    "from sklearn.preprocessing import LabelEncoder\n",
    "from sklearn.compose import ColumnTransformer\n",
    "from sklearn.preprocessing import OneHotEncoder\n",
    "from sklearn.preprocessing import MinMaxScaler,StandardScaler\n",
    "\n",
    "\n",
    "from sklearn.model_selection import RandomizedSearchCV , GridSearchCV, RepeatedStratifiedKFold, StratifiedShuffleSplit,cross_val_score\n",
    "from sklearn.metrics import confusion_matrix , classification_report, make_scorer\n",
    "from sklearn.metrics import precision_score,recall_score,f1_score,accuracy_score\n",
    "from sklearn.metrics import plot_roc_curve ,roc_curve, roc_auc_score\n",
    "from sklearn.metrics import fbeta_score\n",
    "from yellowbrick.classifier import ClassificationReport\n",
    "\n",
    "from imblearn.pipeline import Pipeline\n",
    "from imblearn.combine import SMOTETomek,SMOTEENN\n",
    "from imblearn.under_sampling import RandomUnderSampler, TomekLinks, EditedNearestNeighbours\n",
    "from imblearn.over_sampling import SMOTE\n",
    "\n",
    "import os\n",
    "for dirname, _, filenames in os.walk('/kaggle/input'):\n",
    "    for filename in filenames:\n",
    "        print(os.path.join(dirname, filename))\n",
    "\n",
    "# You can write up to 20GB to the current directory (/kaggle/working/) that gets preserved as output when you create a version using \"Save & Run All\" \n",
    "# You can also write temporary files to /kaggle/temp/, but they won't be saved outside of the current session"
   ]
  },
  {
   "cell_type": "code",
   "execution_count": 2,
   "id": "e884da7c",
   "metadata": {
    "execution": {
     "iopub.execute_input": "2021-10-09T18:07:03.213131Z",
     "iopub.status.busy": "2021-10-09T18:07:03.212484Z",
     "iopub.status.idle": "2021-10-09T18:07:04.158090Z",
     "shell.execute_reply": "2021-10-09T18:07:04.158850Z",
     "shell.execute_reply.started": "2021-10-09T17:11:44.870543Z"
    },
    "papermill": {
     "duration": 0.972249,
     "end_time": "2021-10-09T18:07:04.159115",
     "exception": false,
     "start_time": "2021-10-09T18:07:03.186866",
     "status": "completed"
    },
    "tags": []
   },
   "outputs": [
    {
     "data": {
      "text/html": [
       "<div>\n",
       "<style scoped>\n",
       "    .dataframe tbody tr th:only-of-type {\n",
       "        vertical-align: middle;\n",
       "    }\n",
       "\n",
       "    .dataframe tbody tr th {\n",
       "        vertical-align: top;\n",
       "    }\n",
       "\n",
       "    .dataframe thead th {\n",
       "        text-align: right;\n",
       "    }\n",
       "</style>\n",
       "<table border=\"1\" class=\"dataframe\">\n",
       "  <thead>\n",
       "    <tr style=\"text-align: right;\">\n",
       "      <th></th>\n",
       "      <th>Income</th>\n",
       "      <th>Age</th>\n",
       "      <th>Experience</th>\n",
       "      <th>Married/Single</th>\n",
       "      <th>House_Ownership</th>\n",
       "      <th>Car_Ownership</th>\n",
       "      <th>Profession</th>\n",
       "      <th>CITY</th>\n",
       "      <th>STATE</th>\n",
       "      <th>CURRENT_JOB_YRS</th>\n",
       "      <th>CURRENT_HOUSE_YRS</th>\n",
       "      <th>Risk_Flag</th>\n",
       "    </tr>\n",
       "    <tr>\n",
       "      <th>Id</th>\n",
       "      <th></th>\n",
       "      <th></th>\n",
       "      <th></th>\n",
       "      <th></th>\n",
       "      <th></th>\n",
       "      <th></th>\n",
       "      <th></th>\n",
       "      <th></th>\n",
       "      <th></th>\n",
       "      <th></th>\n",
       "      <th></th>\n",
       "      <th></th>\n",
       "    </tr>\n",
       "  </thead>\n",
       "  <tbody>\n",
       "    <tr>\n",
       "      <th>1</th>\n",
       "      <td>1303834</td>\n",
       "      <td>23</td>\n",
       "      <td>3</td>\n",
       "      <td>single</td>\n",
       "      <td>rented</td>\n",
       "      <td>no</td>\n",
       "      <td>Mechanical_engineer</td>\n",
       "      <td>Rewa</td>\n",
       "      <td>Madhya_Pradesh</td>\n",
       "      <td>3</td>\n",
       "      <td>13</td>\n",
       "      <td>0</td>\n",
       "    </tr>\n",
       "    <tr>\n",
       "      <th>2</th>\n",
       "      <td>7574516</td>\n",
       "      <td>40</td>\n",
       "      <td>10</td>\n",
       "      <td>single</td>\n",
       "      <td>rented</td>\n",
       "      <td>no</td>\n",
       "      <td>Software_Developer</td>\n",
       "      <td>Parbhani</td>\n",
       "      <td>Maharashtra</td>\n",
       "      <td>9</td>\n",
       "      <td>13</td>\n",
       "      <td>0</td>\n",
       "    </tr>\n",
       "    <tr>\n",
       "      <th>3</th>\n",
       "      <td>3991815</td>\n",
       "      <td>66</td>\n",
       "      <td>4</td>\n",
       "      <td>married</td>\n",
       "      <td>rented</td>\n",
       "      <td>no</td>\n",
       "      <td>Technical_writer</td>\n",
       "      <td>Alappuzha</td>\n",
       "      <td>Kerala</td>\n",
       "      <td>4</td>\n",
       "      <td>10</td>\n",
       "      <td>0</td>\n",
       "    </tr>\n",
       "    <tr>\n",
       "      <th>4</th>\n",
       "      <td>6256451</td>\n",
       "      <td>41</td>\n",
       "      <td>2</td>\n",
       "      <td>single</td>\n",
       "      <td>rented</td>\n",
       "      <td>yes</td>\n",
       "      <td>Software_Developer</td>\n",
       "      <td>Bhubaneswar</td>\n",
       "      <td>Odisha</td>\n",
       "      <td>2</td>\n",
       "      <td>12</td>\n",
       "      <td>1</td>\n",
       "    </tr>\n",
       "    <tr>\n",
       "      <th>5</th>\n",
       "      <td>5768871</td>\n",
       "      <td>47</td>\n",
       "      <td>11</td>\n",
       "      <td>single</td>\n",
       "      <td>rented</td>\n",
       "      <td>no</td>\n",
       "      <td>Civil_servant</td>\n",
       "      <td>Tiruchirappalli[10]</td>\n",
       "      <td>Tamil_Nadu</td>\n",
       "      <td>3</td>\n",
       "      <td>14</td>\n",
       "      <td>1</td>\n",
       "    </tr>\n",
       "    <tr>\n",
       "      <th>...</th>\n",
       "      <td>...</td>\n",
       "      <td>...</td>\n",
       "      <td>...</td>\n",
       "      <td>...</td>\n",
       "      <td>...</td>\n",
       "      <td>...</td>\n",
       "      <td>...</td>\n",
       "      <td>...</td>\n",
       "      <td>...</td>\n",
       "      <td>...</td>\n",
       "      <td>...</td>\n",
       "      <td>...</td>\n",
       "    </tr>\n",
       "    <tr>\n",
       "      <th>251996</th>\n",
       "      <td>8154883</td>\n",
       "      <td>43</td>\n",
       "      <td>13</td>\n",
       "      <td>single</td>\n",
       "      <td>rented</td>\n",
       "      <td>no</td>\n",
       "      <td>Surgeon</td>\n",
       "      <td>Kolkata</td>\n",
       "      <td>West_Bengal</td>\n",
       "      <td>6</td>\n",
       "      <td>11</td>\n",
       "      <td>0</td>\n",
       "    </tr>\n",
       "    <tr>\n",
       "      <th>251997</th>\n",
       "      <td>2843572</td>\n",
       "      <td>26</td>\n",
       "      <td>10</td>\n",
       "      <td>single</td>\n",
       "      <td>rented</td>\n",
       "      <td>no</td>\n",
       "      <td>Army_officer</td>\n",
       "      <td>Rewa</td>\n",
       "      <td>Madhya_Pradesh</td>\n",
       "      <td>6</td>\n",
       "      <td>11</td>\n",
       "      <td>0</td>\n",
       "    </tr>\n",
       "    <tr>\n",
       "      <th>251998</th>\n",
       "      <td>4522448</td>\n",
       "      <td>46</td>\n",
       "      <td>7</td>\n",
       "      <td>single</td>\n",
       "      <td>rented</td>\n",
       "      <td>no</td>\n",
       "      <td>Design_Engineer</td>\n",
       "      <td>Kalyan-Dombivli</td>\n",
       "      <td>Maharashtra</td>\n",
       "      <td>7</td>\n",
       "      <td>12</td>\n",
       "      <td>0</td>\n",
       "    </tr>\n",
       "    <tr>\n",
       "      <th>251999</th>\n",
       "      <td>6507128</td>\n",
       "      <td>45</td>\n",
       "      <td>0</td>\n",
       "      <td>single</td>\n",
       "      <td>rented</td>\n",
       "      <td>no</td>\n",
       "      <td>Graphic_Designer</td>\n",
       "      <td>Pondicherry</td>\n",
       "      <td>Puducherry</td>\n",
       "      <td>0</td>\n",
       "      <td>10</td>\n",
       "      <td>0</td>\n",
       "    </tr>\n",
       "    <tr>\n",
       "      <th>252000</th>\n",
       "      <td>9070230</td>\n",
       "      <td>70</td>\n",
       "      <td>17</td>\n",
       "      <td>single</td>\n",
       "      <td>rented</td>\n",
       "      <td>no</td>\n",
       "      <td>Statistician</td>\n",
       "      <td>Avadi</td>\n",
       "      <td>Tamil_Nadu</td>\n",
       "      <td>7</td>\n",
       "      <td>11</td>\n",
       "      <td>0</td>\n",
       "    </tr>\n",
       "  </tbody>\n",
       "</table>\n",
       "<p>252000 rows × 12 columns</p>\n",
       "</div>"
      ],
      "text/plain": [
       "         Income  Age  Experience Married/Single House_Ownership Car_Ownership  \\\n",
       "Id                                                                              \n",
       "1       1303834   23           3         single          rented            no   \n",
       "2       7574516   40          10         single          rented            no   \n",
       "3       3991815   66           4        married          rented            no   \n",
       "4       6256451   41           2         single          rented           yes   \n",
       "5       5768871   47          11         single          rented            no   \n",
       "...         ...  ...         ...            ...             ...           ...   \n",
       "251996  8154883   43          13         single          rented            no   \n",
       "251997  2843572   26          10         single          rented            no   \n",
       "251998  4522448   46           7         single          rented            no   \n",
       "251999  6507128   45           0         single          rented            no   \n",
       "252000  9070230   70          17         single          rented            no   \n",
       "\n",
       "                 Profession                 CITY           STATE  \\\n",
       "Id                                                                 \n",
       "1       Mechanical_engineer                 Rewa  Madhya_Pradesh   \n",
       "2        Software_Developer             Parbhani     Maharashtra   \n",
       "3          Technical_writer            Alappuzha          Kerala   \n",
       "4        Software_Developer          Bhubaneswar          Odisha   \n",
       "5             Civil_servant  Tiruchirappalli[10]      Tamil_Nadu   \n",
       "...                     ...                  ...             ...   \n",
       "251996              Surgeon              Kolkata     West_Bengal   \n",
       "251997         Army_officer                 Rewa  Madhya_Pradesh   \n",
       "251998      Design_Engineer      Kalyan-Dombivli     Maharashtra   \n",
       "251999     Graphic_Designer          Pondicherry      Puducherry   \n",
       "252000         Statistician                Avadi      Tamil_Nadu   \n",
       "\n",
       "        CURRENT_JOB_YRS  CURRENT_HOUSE_YRS  Risk_Flag  \n",
       "Id                                                     \n",
       "1                     3                 13          0  \n",
       "2                     9                 13          0  \n",
       "3                     4                 10          0  \n",
       "4                     2                 12          1  \n",
       "5                     3                 14          1  \n",
       "...                 ...                ...        ...  \n",
       "251996                6                 11          0  \n",
       "251997                6                 11          0  \n",
       "251998                7                 12          0  \n",
       "251999                0                 10          0  \n",
       "252000                7                 11          0  \n",
       "\n",
       "[252000 rows x 12 columns]"
      ]
     },
     "execution_count": 2,
     "metadata": {},
     "output_type": "execute_result"
    }
   ],
   "source": [
    "df = pd.read_csv(\"/kaggle/input/loan-prediction-based-on-customer-behavior/Training Data.csv\", index_col='Id')\n",
    "sss=StratifiedShuffleSplit(n_splits=1,test_size=0.25,random_state=42)\n",
    "\n",
    "for train_index, test_index in sss.split(df,df[\"Risk_Flag\"], ):\n",
    "    sss_train = df.iloc[train_index]\n",
    "    sss_test = df.iloc[test_index]\n",
    "    \n",
    "x_train= sss_train.drop(['Risk_Flag','Profession','STATE','CITY'], axis=1)\n",
    "x_test= sss_test.drop(['Risk_Flag','Profession','STATE','CITY'], axis=1)\n",
    "y_train = sss_train.Risk_Flag\n",
    "y_test = sss_test.Risk_Flag\n",
    "count = Counter(y_train)\n",
    "df\n"
   ]
  },
  {
   "cell_type": "markdown",
   "id": "be6b9ba0",
   "metadata": {
    "papermill": {
     "duration": 0.023125,
     "end_time": "2021-10-09T18:07:04.215122",
     "exception": false,
     "start_time": "2021-10-09T18:07:04.191997",
     "status": "completed"
    },
    "tags": []
   },
   "source": [
    "**Check for null elements**"
   ]
  },
  {
   "cell_type": "code",
   "execution_count": 3,
   "id": "62235e44",
   "metadata": {
    "execution": {
     "iopub.execute_input": "2021-10-09T18:07:04.343068Z",
     "iopub.status.busy": "2021-10-09T18:07:04.342393Z",
     "iopub.status.idle": "2021-10-09T18:07:04.363034Z",
     "shell.execute_reply": "2021-10-09T18:07:04.362104Z",
     "shell.execute_reply.started": "2021-10-09T16:19:11.578856Z"
    },
    "papermill": {
     "duration": 0.122684,
     "end_time": "2021-10-09T18:07:04.363233",
     "exception": false,
     "start_time": "2021-10-09T18:07:04.240549",
     "status": "completed"
    },
    "tags": []
   },
   "outputs": [
    {
     "name": "stdout",
     "output_type": "stream",
     "text": [
      "<class 'pandas.core.frame.DataFrame'>\n",
      "Int64Index: 252000 entries, 1 to 252000\n",
      "Data columns (total 12 columns):\n",
      " #   Column             Non-Null Count   Dtype \n",
      "---  ------             --------------   ----- \n",
      " 0   Income             252000 non-null  int64 \n",
      " 1   Age                252000 non-null  int64 \n",
      " 2   Experience         252000 non-null  int64 \n",
      " 3   Married/Single     252000 non-null  object\n",
      " 4   House_Ownership    252000 non-null  object\n",
      " 5   Car_Ownership      252000 non-null  object\n",
      " 6   Profession         252000 non-null  object\n",
      " 7   CITY               252000 non-null  object\n",
      " 8   STATE              252000 non-null  object\n",
      " 9   CURRENT_JOB_YRS    252000 non-null  int64 \n",
      " 10  CURRENT_HOUSE_YRS  252000 non-null  int64 \n",
      " 11  Risk_Flag          252000 non-null  int64 \n",
      "dtypes: int64(6), object(6)\n",
      "memory usage: 25.0+ MB\n"
     ]
    }
   ],
   "source": [
    "df.info()"
   ]
  },
  {
   "cell_type": "markdown",
   "id": "7c4ef843",
   "metadata": {
    "papermill": {
     "duration": 0.02325,
     "end_time": "2021-10-09T18:07:04.411310",
     "exception": false,
     "start_time": "2021-10-09T18:07:04.388060",
     "status": "completed"
    },
    "tags": []
   },
   "source": [
    "**Basic stats of data**"
   ]
  },
  {
   "cell_type": "code",
   "execution_count": 4,
   "id": "a0cc379e",
   "metadata": {
    "execution": {
     "iopub.execute_input": "2021-10-09T18:07:04.471769Z",
     "iopub.status.busy": "2021-10-09T18:07:04.462844Z",
     "iopub.status.idle": "2021-10-09T18:07:04.540549Z",
     "shell.execute_reply": "2021-10-09T18:07:04.541051Z",
     "shell.execute_reply.started": "2021-10-09T16:20:05.089236Z"
    },
    "papermill": {
     "duration": 0.106196,
     "end_time": "2021-10-09T18:07:04.541220",
     "exception": false,
     "start_time": "2021-10-09T18:07:04.435024",
     "status": "completed"
    },
    "tags": []
   },
   "outputs": [
    {
     "data": {
      "text/html": [
       "<div>\n",
       "<style scoped>\n",
       "    .dataframe tbody tr th:only-of-type {\n",
       "        vertical-align: middle;\n",
       "    }\n",
       "\n",
       "    .dataframe tbody tr th {\n",
       "        vertical-align: top;\n",
       "    }\n",
       "\n",
       "    .dataframe thead th {\n",
       "        text-align: right;\n",
       "    }\n",
       "</style>\n",
       "<table border=\"1\" class=\"dataframe\">\n",
       "  <thead>\n",
       "    <tr style=\"text-align: right;\">\n",
       "      <th></th>\n",
       "      <th>Income</th>\n",
       "      <th>Age</th>\n",
       "      <th>Experience</th>\n",
       "      <th>CURRENT_JOB_YRS</th>\n",
       "      <th>CURRENT_HOUSE_YRS</th>\n",
       "      <th>Risk_Flag</th>\n",
       "    </tr>\n",
       "  </thead>\n",
       "  <tbody>\n",
       "    <tr>\n",
       "      <th>count</th>\n",
       "      <td>2.520000e+05</td>\n",
       "      <td>252000.000000</td>\n",
       "      <td>252000.000000</td>\n",
       "      <td>252000.000000</td>\n",
       "      <td>252000.000000</td>\n",
       "      <td>252000.000000</td>\n",
       "    </tr>\n",
       "    <tr>\n",
       "      <th>mean</th>\n",
       "      <td>4.997117e+06</td>\n",
       "      <td>49.954071</td>\n",
       "      <td>10.084437</td>\n",
       "      <td>6.333877</td>\n",
       "      <td>11.997794</td>\n",
       "      <td>0.123000</td>\n",
       "    </tr>\n",
       "    <tr>\n",
       "      <th>std</th>\n",
       "      <td>2.878311e+06</td>\n",
       "      <td>17.063855</td>\n",
       "      <td>6.002590</td>\n",
       "      <td>3.647053</td>\n",
       "      <td>1.399037</td>\n",
       "      <td>0.328438</td>\n",
       "    </tr>\n",
       "    <tr>\n",
       "      <th>min</th>\n",
       "      <td>1.031000e+04</td>\n",
       "      <td>21.000000</td>\n",
       "      <td>0.000000</td>\n",
       "      <td>0.000000</td>\n",
       "      <td>10.000000</td>\n",
       "      <td>0.000000</td>\n",
       "    </tr>\n",
       "    <tr>\n",
       "      <th>25%</th>\n",
       "      <td>2.503015e+06</td>\n",
       "      <td>35.000000</td>\n",
       "      <td>5.000000</td>\n",
       "      <td>3.000000</td>\n",
       "      <td>11.000000</td>\n",
       "      <td>0.000000</td>\n",
       "    </tr>\n",
       "    <tr>\n",
       "      <th>50%</th>\n",
       "      <td>5.000694e+06</td>\n",
       "      <td>50.000000</td>\n",
       "      <td>10.000000</td>\n",
       "      <td>6.000000</td>\n",
       "      <td>12.000000</td>\n",
       "      <td>0.000000</td>\n",
       "    </tr>\n",
       "    <tr>\n",
       "      <th>75%</th>\n",
       "      <td>7.477502e+06</td>\n",
       "      <td>65.000000</td>\n",
       "      <td>15.000000</td>\n",
       "      <td>9.000000</td>\n",
       "      <td>13.000000</td>\n",
       "      <td>0.000000</td>\n",
       "    </tr>\n",
       "    <tr>\n",
       "      <th>max</th>\n",
       "      <td>9.999938e+06</td>\n",
       "      <td>79.000000</td>\n",
       "      <td>20.000000</td>\n",
       "      <td>14.000000</td>\n",
       "      <td>14.000000</td>\n",
       "      <td>1.000000</td>\n",
       "    </tr>\n",
       "  </tbody>\n",
       "</table>\n",
       "</div>"
      ],
      "text/plain": [
       "             Income            Age     Experience  CURRENT_JOB_YRS  \\\n",
       "count  2.520000e+05  252000.000000  252000.000000    252000.000000   \n",
       "mean   4.997117e+06      49.954071      10.084437         6.333877   \n",
       "std    2.878311e+06      17.063855       6.002590         3.647053   \n",
       "min    1.031000e+04      21.000000       0.000000         0.000000   \n",
       "25%    2.503015e+06      35.000000       5.000000         3.000000   \n",
       "50%    5.000694e+06      50.000000      10.000000         6.000000   \n",
       "75%    7.477502e+06      65.000000      15.000000         9.000000   \n",
       "max    9.999938e+06      79.000000      20.000000        14.000000   \n",
       "\n",
       "       CURRENT_HOUSE_YRS      Risk_Flag  \n",
       "count      252000.000000  252000.000000  \n",
       "mean           11.997794       0.123000  \n",
       "std             1.399037       0.328438  \n",
       "min            10.000000       0.000000  \n",
       "25%            11.000000       0.000000  \n",
       "50%            12.000000       0.000000  \n",
       "75%            13.000000       0.000000  \n",
       "max            14.000000       1.000000  "
      ]
     },
     "execution_count": 4,
     "metadata": {},
     "output_type": "execute_result"
    }
   ],
   "source": [
    "df.describe()"
   ]
  },
  {
   "cell_type": "markdown",
   "id": "3f748a6f",
   "metadata": {
    "papermill": {
     "duration": 0.024123,
     "end_time": "2021-10-09T18:07:04.589644",
     "exception": false,
     "start_time": "2021-10-09T18:07:04.565521",
     "status": "completed"
    },
    "tags": []
   },
   "source": [
    "# **Exploratory Data Analysis**"
   ]
  },
  {
   "cell_type": "code",
   "execution_count": 5,
   "id": "694b33f7",
   "metadata": {
    "execution": {
     "iopub.execute_input": "2021-10-09T18:07:04.644706Z",
     "iopub.status.busy": "2021-10-09T18:07:04.644024Z",
     "iopub.status.idle": "2021-10-09T18:07:04.923096Z",
     "shell.execute_reply": "2021-10-09T18:07:04.923567Z",
     "shell.execute_reply.started": "2021-10-09T16:20:20.306168Z"
    },
    "papermill": {
     "duration": 0.30998,
     "end_time": "2021-10-09T18:07:04.923763",
     "exception": false,
     "start_time": "2021-10-09T18:07:04.613783",
     "status": "completed"
    },
    "tags": []
   },
   "outputs": [
    {
     "data": {
      "image/png": "[encoded data removed]",
      "text/plain": [
       "<Figure size 576x396 with 1 Axes>"
      ]
     },
     "metadata": {},
     "output_type": "display_data"
    }
   ],
   "source": [
    "r = df.groupby('Risk_Flag')['Risk_Flag'].count()\n",
    "plt.pie(r, explode=[0.05, 0.1], labels=['Non-Defaulter', 'Defaulter'], radius=1.5, autopct='%1.1f%%',  shadow=True)\n",
    ";\n",
    "plt.show()\n"
   ]
  },
  {
   "cell_type": "code",
   "execution_count": 6,
   "id": "fe1e6a61",
   "metadata": {
    "execution": {
     "iopub.execute_input": "2021-10-09T18:07:04.978737Z",
     "iopub.status.busy": "2021-10-09T18:07:04.978093Z",
     "iopub.status.idle": "2021-10-09T18:07:06.244715Z",
     "shell.execute_reply": "2021-10-09T18:07:06.245183Z",
     "shell.execute_reply.started": "2021-10-09T16:20:52.779794Z"
    },
    "papermill": {
     "duration": 1.296448,
     "end_time": "2021-10-09T18:07:06.245350",
     "exception": false,
     "start_time": "2021-10-09T18:07:04.948902",
     "status": "completed"
    },
    "tags": []
   },
   "outputs": [
    {
     "data": {
      "image/png": "[encoded data removed]",
      "text/plain": [
       "<Figure size 1440x1080 with 6 Axes>"
      ]
     },
     "metadata": {},
     "output_type": "display_data"
    }
   ],
   "source": [
    "\n",
    "df.hist(figsize = (20, 15))\n",
    "plt.tight_layout()\n"
   ]
  },
  {
   "cell_type": "markdown",
   "id": "a05d7f9e",
   "metadata": {
    "papermill": {
     "duration": 0.026449,
     "end_time": "2021-10-09T18:07:06.298841",
     "exception": false,
     "start_time": "2021-10-09T18:07:06.272392",
     "status": "completed"
    },
    "tags": []
   },
   "source": [
    "All numerical features are uniformly distributed and there's a heavy imbalance in the target class."
   ]
  },
  {
   "cell_type": "code",
   "execution_count": 7,
   "id": "897820f2",
   "metadata": {
    "execution": {
     "iopub.execute_input": "2021-10-09T18:07:06.357304Z",
     "iopub.status.busy": "2021-10-09T18:07:06.356608Z",
     "iopub.status.idle": "2021-10-09T18:07:07.420716Z",
     "shell.execute_reply": "2021-10-09T18:07:07.421235Z",
     "shell.execute_reply.started": "2021-10-09T16:21:47.4647Z"
    },
    "papermill": {
     "duration": 1.094826,
     "end_time": "2021-10-09T18:07:07.421415",
     "exception": false,
     "start_time": "2021-10-09T18:07:06.326589",
     "status": "completed"
    },
    "tags": []
   },
   "outputs": [
    {
     "data": {
      "text/plain": [
       "<AxesSubplot:>"
      ]
     },
     "execution_count": 7,
     "metadata": {},
     "output_type": "execute_result"
    },
    {
     "data": {
      "image/png": "[encoded data removed]",
      "text/plain": [
       "<Figure size 720x1296 with 1 Axes>"
      ]
     },
     "metadata": {},
     "output_type": "display_data"
    }
   ],
   "source": [
    "plt.figure(figsize=(10,18))\n",
    "df['Profession'].value_counts().plot(kind='barh')\n",
    "\n",
    "\n"
   ]
  },
  {
   "cell_type": "code",
   "execution_count": 8,
   "id": "dd99c7e6",
   "metadata": {
    "execution": {
     "iopub.execute_input": "2021-10-09T18:07:07.487529Z",
     "iopub.status.busy": "2021-10-09T18:07:07.486855Z",
     "iopub.status.idle": "2021-10-09T18:07:07.781097Z",
     "shell.execute_reply": "2021-10-09T18:07:07.781575Z",
     "shell.execute_reply.started": "2021-10-09T16:21:53.846533Z"
    },
    "papermill": {
     "duration": 0.329615,
     "end_time": "2021-10-09T18:07:07.781765",
     "exception": false,
     "start_time": "2021-10-09T18:07:07.452150",
     "status": "completed"
    },
    "tags": []
   },
   "outputs": [
    {
     "data": {
      "text/plain": [
       "<AxesSubplot:xlabel='Risk_Flag'>"
      ]
     },
     "execution_count": 8,
     "metadata": {},
     "output_type": "execute_result"
    },
    {
     "data": {
      "image/png": "[encoded data removed]",
      "text/plain": [
       "<Figure size 720x432 with 1 Axes>"
      ]
     },
     "metadata": {},
     "output_type": "display_data"
    }
   ],
   "source": [
    "pd.crosstab(df.Risk_Flag,df.Car_Ownership).plot(kind= \"bar\",figsize = (10,6))"
   ]
  },
  {
   "cell_type": "code",
   "execution_count": 9,
   "id": "7d917fb4",
   "metadata": {
    "execution": {
     "iopub.execute_input": "2021-10-09T18:07:07.846789Z",
     "iopub.status.busy": "2021-10-09T18:07:07.846143Z",
     "iopub.status.idle": "2021-10-09T18:07:08.238241Z",
     "shell.execute_reply": "2021-10-09T18:07:08.238678Z",
     "shell.execute_reply.started": "2021-10-09T16:22:25.226295Z"
    },
    "papermill": {
     "duration": 0.426217,
     "end_time": "2021-10-09T18:07:08.238863",
     "exception": false,
     "start_time": "2021-10-09T18:07:07.812646",
     "status": "completed"
    },
    "tags": []
   },
   "outputs": [
    {
     "data": {
      "text/plain": [
       "<AxesSubplot:xlabel='Risk_Flag'>"
      ]
     },
     "execution_count": 9,
     "metadata": {},
     "output_type": "execute_result"
    },
    {
     "data": {
      "image/png": "[encoded data removed]",
      "text/plain": [
       "<Figure size 720x432 with 1 Axes>"
      ]
     },
     "metadata": {},
     "output_type": "display_data"
    }
   ],
   "source": [
    "pd.crosstab(df.Risk_Flag,df.CURRENT_JOB_YRS).plot(kind= \"bar\",figsize = (10,6) )"
   ]
  },
  {
   "cell_type": "code",
   "execution_count": 10,
   "id": "e54777e5",
   "metadata": {
    "execution": {
     "iopub.execute_input": "2021-10-09T18:07:08.309211Z",
     "iopub.status.busy": "2021-10-09T18:07:08.307448Z",
     "iopub.status.idle": "2021-10-09T18:07:08.597357Z",
     "shell.execute_reply": "2021-10-09T18:07:08.596666Z",
     "shell.execute_reply.started": "2021-10-09T16:22:28.770734Z"
    },
    "papermill": {
     "duration": 0.327542,
     "end_time": "2021-10-09T18:07:08.597504",
     "exception": false,
     "start_time": "2021-10-09T18:07:08.269962",
     "status": "completed"
    },
    "tags": []
   },
   "outputs": [
    {
     "data": {
      "text/plain": [
       "<AxesSubplot:xlabel='Risk_Flag'>"
      ]
     },
     "execution_count": 10,
     "metadata": {},
     "output_type": "execute_result"
    },
    {
     "data": {
      "image/png": "[encoded data removed]",
      "text/plain": [
       "<Figure size 720x432 with 1 Axes>"
      ]
     },
     "metadata": {},
     "output_type": "display_data"
    }
   ],
   "source": [
    "pd.crosstab(df.Risk_Flag,df.House_Ownership).plot(kind= \"bar\",figsize = (10,6) , color = [\"salmon\",\"lightblue\",\"blue\"] )"
   ]
  },
  {
   "cell_type": "markdown",
   "id": "48c86734",
   "metadata": {
    "papermill": {
     "duration": 0.033401,
     "end_time": "2021-10-09T18:07:08.664042",
     "exception": false,
     "start_time": "2021-10-09T18:07:08.630641",
     "status": "completed"
    },
    "tags": []
   },
   "source": [
    "The number of defaulters is higher among those who have rented homes as can be expected in real life scenario."
   ]
  },
  {
   "cell_type": "code",
   "execution_count": 11,
   "id": "3555791b",
   "metadata": {
    "execution": {
     "iopub.execute_input": "2021-10-09T18:07:08.758425Z",
     "iopub.status.busy": "2021-10-09T18:07:08.757775Z",
     "iopub.status.idle": "2021-10-09T18:07:09.196903Z",
     "shell.execute_reply": "2021-10-09T18:07:09.197388Z",
     "shell.execute_reply.started": "2021-10-09T16:22:36.437152Z"
    },
    "papermill": {
     "duration": 0.500911,
     "end_time": "2021-10-09T18:07:09.197560",
     "exception": false,
     "start_time": "2021-10-09T18:07:08.696649",
     "status": "completed"
    },
    "tags": []
   },
   "outputs": [
    {
     "data": {
      "image/png": "[encoded data removed]",
      "text/plain": [
       "<Figure size 864x576 with 2 Axes>"
      ]
     },
     "metadata": {},
     "output_type": "display_data"
    }
   ],
   "source": [
    "fig, ax = plt.subplots( figsize = (12,8) )\n",
    "\n",
    "corr_matrix = df.corr()\n",
    "corr_heatmap = sns.heatmap( corr_matrix, cmap = \"YlGnBu\", annot=True, ax=ax, annot_kws={\"size\": 14})\n",
    "\n",
    "plt.show()"
   ]
  },
  {
   "cell_type": "markdown",
   "id": "730ac2c3",
   "metadata": {
    "papermill": {
     "duration": 0.033984,
     "end_time": "2021-10-09T18:07:09.265526",
     "exception": false,
     "start_time": "2021-10-09T18:07:09.231542",
     "status": "completed"
    },
    "tags": []
   },
   "source": [
    "There's some collinearity between Current Job years and Experience, one of them can be removed from the data."
   ]
  },
  {
   "cell_type": "markdown",
   "id": "2e1a52e0",
   "metadata": {
    "papermill": {
     "duration": 0.033767,
     "end_time": "2021-10-09T18:07:09.333526",
     "exception": false,
     "start_time": "2021-10-09T18:07:09.299759",
     "status": "completed"
    },
    "tags": []
   },
   "source": [
    "> **Seperating Numerical and Categorical columns**"
   ]
  },
  {
   "cell_type": "code",
   "execution_count": 12,
   "id": "9abff73c",
   "metadata": {
    "execution": {
     "iopub.execute_input": "2021-10-09T18:07:09.406300Z",
     "iopub.status.busy": "2021-10-09T18:07:09.405578Z",
     "iopub.status.idle": "2021-10-09T18:07:09.416735Z",
     "shell.execute_reply": "2021-10-09T18:07:09.417396Z",
     "shell.execute_reply.started": "2021-10-09T17:12:22.219573Z"
    },
    "papermill": {
     "duration": 0.049843,
     "end_time": "2021-10-09T18:07:09.417639",
     "exception": false,
     "start_time": "2021-10-09T18:07:09.367796",
     "status": "completed"
    },
    "tags": []
   },
   "outputs": [
    {
     "name": "stdout",
     "output_type": "stream",
     "text": [
      "['Income', 'Age', 'Experience', 'CURRENT_JOB_YRS', 'CURRENT_HOUSE_YRS']\n",
      "['Married/Single', 'House_Ownership', 'Car_Ownership']\n"
     ]
    }
   ],
   "source": [
    "cat_var = ['Married/Single','House_Ownership','Car_Ownership']\n",
    "num_var = list(x_train.select_dtypes(include =['int64','float64']).columns)\n",
    "\n",
    "y_train,y_test = np.array(y_train), np.array(y_test)\n",
    "print(num_var)\n",
    "print(cat_var)"
   ]
  },
  {
   "cell_type": "markdown",
   "id": "b2cd36ce",
   "metadata": {
    "papermill": {
     "duration": 0.034326,
     "end_time": "2021-10-09T18:07:09.487092",
     "exception": false,
     "start_time": "2021-10-09T18:07:09.452766",
     "status": "completed"
    },
    "tags": []
   },
   "source": [
    "# **Preprocessing Data**"
   ]
  },
  {
   "cell_type": "markdown",
   "id": "eaa2c75a",
   "metadata": {
    "papermill": {
     "duration": 0.034099,
     "end_time": "2021-10-09T18:07:09.556434",
     "exception": false,
     "start_time": "2021-10-09T18:07:09.522335",
     "status": "completed"
    },
    "tags": []
   },
   "source": [
    "**Numerical columns:** Scaled using MinMaxScaler\n",
    "\n",
    "\n",
    "**Categorical columns:**\n",
    "(i) Profession, State and City Columns were dropped because of their high cardinality\n",
    "(i) Remaining columns were encoded using One hot encoding"
   ]
  },
  {
   "cell_type": "code",
   "execution_count": 13,
   "id": "3a7f09e7",
   "metadata": {
    "execution": {
     "iopub.execute_input": "2021-10-09T18:07:09.628212Z",
     "iopub.status.busy": "2021-10-09T18:07:09.627524Z",
     "iopub.status.idle": "2021-10-09T18:07:09.895099Z",
     "shell.execute_reply": "2021-10-09T18:07:09.894411Z",
     "shell.execute_reply.started": "2021-10-09T17:12:24.59194Z"
    },
    "papermill": {
     "duration": 0.304941,
     "end_time": "2021-10-09T18:07:09.895268",
     "exception": false,
     "start_time": "2021-10-09T18:07:09.590327",
     "status": "completed"
    },
    "tags": []
   },
   "outputs": [],
   "source": [
    "\n",
    "preprocessor= ColumnTransformer(transformers=[('o',OneHotEncoder(sparse=False,handle_unknown='ignore'),cat_var),('s',MinMaxScaler(), num_var)], remainder='passthrough')\n",
    "x_arr = preprocessor.fit_transform(x_train)\n",
    "x_arr_test = preprocessor.transform(x_test)"
   ]
  },
  {
   "cell_type": "markdown",
   "id": "bad3d40f",
   "metadata": {
    "papermill": {
     "duration": 0.034288,
     "end_time": "2021-10-09T18:07:09.964786",
     "exception": false,
     "start_time": "2021-10-09T18:07:09.930498",
     "status": "completed"
    },
    "tags": []
   },
   "source": [
    "**Visualizing preprocessed data in DataFrame**"
   ]
  },
  {
   "cell_type": "code",
   "execution_count": 14,
   "id": "52593f1d",
   "metadata": {
    "execution": {
     "iopub.execute_input": "2021-10-09T18:07:10.059973Z",
     "iopub.status.busy": "2021-10-09T18:07:10.059084Z",
     "iopub.status.idle": "2021-10-09T18:07:10.063012Z",
     "shell.execute_reply": "2021-10-09T18:07:10.062438Z",
     "shell.execute_reply.started": "2021-10-09T16:27:52.935572Z"
    },
    "papermill": {
     "duration": 0.06388,
     "end_time": "2021-10-09T18:07:10.063157",
     "exception": false,
     "start_time": "2021-10-09T18:07:09.999277",
     "status": "completed"
    },
    "tags": []
   },
   "outputs": [
    {
     "data": {
      "text/html": [
       "<div>\n",
       "<style scoped>\n",
       "    .dataframe tbody tr th:only-of-type {\n",
       "        vertical-align: middle;\n",
       "    }\n",
       "\n",
       "    .dataframe tbody tr th {\n",
       "        vertical-align: top;\n",
       "    }\n",
       "\n",
       "    .dataframe thead th {\n",
       "        text-align: right;\n",
       "    }\n",
       "</style>\n",
       "<table border=\"1\" class=\"dataframe\">\n",
       "  <thead>\n",
       "    <tr style=\"text-align: right;\">\n",
       "      <th></th>\n",
       "      <th>x0_married</th>\n",
       "      <th>x0_single</th>\n",
       "      <th>x1_norent_noown</th>\n",
       "      <th>x1_owned</th>\n",
       "      <th>x1_rented</th>\n",
       "      <th>x2_no</th>\n",
       "      <th>x2_yes</th>\n",
       "      <th>7</th>\n",
       "      <th>8</th>\n",
       "      <th>9</th>\n",
       "      <th>10</th>\n",
       "      <th>11</th>\n",
       "    </tr>\n",
       "  </thead>\n",
       "  <tbody>\n",
       "    <tr>\n",
       "      <th>0</th>\n",
       "      <td>0.0</td>\n",
       "      <td>1.0</td>\n",
       "      <td>0.0</td>\n",
       "      <td>0.0</td>\n",
       "      <td>1.0</td>\n",
       "      <td>0.0</td>\n",
       "      <td>1.0</td>\n",
       "      <td>0.143242</td>\n",
       "      <td>0.586207</td>\n",
       "      <td>0.30</td>\n",
       "      <td>0.428571</td>\n",
       "      <td>0.00</td>\n",
       "    </tr>\n",
       "    <tr>\n",
       "      <th>1</th>\n",
       "      <td>0.0</td>\n",
       "      <td>1.0</td>\n",
       "      <td>0.0</td>\n",
       "      <td>0.0</td>\n",
       "      <td>1.0</td>\n",
       "      <td>0.0</td>\n",
       "      <td>1.0</td>\n",
       "      <td>0.811570</td>\n",
       "      <td>0.293103</td>\n",
       "      <td>0.05</td>\n",
       "      <td>0.071429</td>\n",
       "      <td>1.00</td>\n",
       "    </tr>\n",
       "    <tr>\n",
       "      <th>2</th>\n",
       "      <td>0.0</td>\n",
       "      <td>1.0</td>\n",
       "      <td>0.0</td>\n",
       "      <td>0.0</td>\n",
       "      <td>1.0</td>\n",
       "      <td>1.0</td>\n",
       "      <td>0.0</td>\n",
       "      <td>0.342000</td>\n",
       "      <td>0.793103</td>\n",
       "      <td>0.05</td>\n",
       "      <td>0.071429</td>\n",
       "      <td>0.50</td>\n",
       "    </tr>\n",
       "    <tr>\n",
       "      <th>3</th>\n",
       "      <td>0.0</td>\n",
       "      <td>1.0</td>\n",
       "      <td>0.0</td>\n",
       "      <td>0.0</td>\n",
       "      <td>1.0</td>\n",
       "      <td>1.0</td>\n",
       "      <td>0.0</td>\n",
       "      <td>0.102532</td>\n",
       "      <td>0.103448</td>\n",
       "      <td>0.85</td>\n",
       "      <td>0.571429</td>\n",
       "      <td>0.50</td>\n",
       "    </tr>\n",
       "    <tr>\n",
       "      <th>4</th>\n",
       "      <td>0.0</td>\n",
       "      <td>1.0</td>\n",
       "      <td>0.0</td>\n",
       "      <td>0.0</td>\n",
       "      <td>1.0</td>\n",
       "      <td>1.0</td>\n",
       "      <td>0.0</td>\n",
       "      <td>0.378861</td>\n",
       "      <td>0.517241</td>\n",
       "      <td>1.00</td>\n",
       "      <td>0.428571</td>\n",
       "      <td>0.50</td>\n",
       "    </tr>\n",
       "    <tr>\n",
       "      <th>...</th>\n",
       "      <td>...</td>\n",
       "      <td>...</td>\n",
       "      <td>...</td>\n",
       "      <td>...</td>\n",
       "      <td>...</td>\n",
       "      <td>...</td>\n",
       "      <td>...</td>\n",
       "      <td>...</td>\n",
       "      <td>...</td>\n",
       "      <td>...</td>\n",
       "      <td>...</td>\n",
       "      <td>...</td>\n",
       "    </tr>\n",
       "    <tr>\n",
       "      <th>188995</th>\n",
       "      <td>0.0</td>\n",
       "      <td>1.0</td>\n",
       "      <td>0.0</td>\n",
       "      <td>0.0</td>\n",
       "      <td>1.0</td>\n",
       "      <td>1.0</td>\n",
       "      <td>0.0</td>\n",
       "      <td>0.666301</td>\n",
       "      <td>1.000000</td>\n",
       "      <td>0.20</td>\n",
       "      <td>0.285714</td>\n",
       "      <td>0.50</td>\n",
       "    </tr>\n",
       "    <tr>\n",
       "      <th>188996</th>\n",
       "      <td>0.0</td>\n",
       "      <td>1.0</td>\n",
       "      <td>0.0</td>\n",
       "      <td>0.0</td>\n",
       "      <td>1.0</td>\n",
       "      <td>1.0</td>\n",
       "      <td>0.0</td>\n",
       "      <td>0.513951</td>\n",
       "      <td>0.586207</td>\n",
       "      <td>0.20</td>\n",
       "      <td>0.285714</td>\n",
       "      <td>0.75</td>\n",
       "    </tr>\n",
       "    <tr>\n",
       "      <th>188997</th>\n",
       "      <td>0.0</td>\n",
       "      <td>1.0</td>\n",
       "      <td>0.0</td>\n",
       "      <td>0.0</td>\n",
       "      <td>1.0</td>\n",
       "      <td>1.0</td>\n",
       "      <td>0.0</td>\n",
       "      <td>0.903086</td>\n",
       "      <td>0.482759</td>\n",
       "      <td>0.25</td>\n",
       "      <td>0.285714</td>\n",
       "      <td>0.00</td>\n",
       "    </tr>\n",
       "    <tr>\n",
       "      <th>188998</th>\n",
       "      <td>0.0</td>\n",
       "      <td>1.0</td>\n",
       "      <td>0.0</td>\n",
       "      <td>0.0</td>\n",
       "      <td>1.0</td>\n",
       "      <td>1.0</td>\n",
       "      <td>0.0</td>\n",
       "      <td>0.157654</td>\n",
       "      <td>0.741379</td>\n",
       "      <td>0.45</td>\n",
       "      <td>0.642857</td>\n",
       "      <td>0.00</td>\n",
       "    </tr>\n",
       "    <tr>\n",
       "      <th>188999</th>\n",
       "      <td>1.0</td>\n",
       "      <td>0.0</td>\n",
       "      <td>0.0</td>\n",
       "      <td>0.0</td>\n",
       "      <td>1.0</td>\n",
       "      <td>0.0</td>\n",
       "      <td>1.0</td>\n",
       "      <td>0.477911</td>\n",
       "      <td>0.672414</td>\n",
       "      <td>0.95</td>\n",
       "      <td>0.642857</td>\n",
       "      <td>1.00</td>\n",
       "    </tr>\n",
       "  </tbody>\n",
       "</table>\n",
       "<p>189000 rows × 12 columns</p>\n",
       "</div>"
      ],
      "text/plain": [
       "        x0_married  x0_single  x1_norent_noown  x1_owned  x1_rented  x2_no  \\\n",
       "0              0.0        1.0              0.0       0.0        1.0    0.0   \n",
       "1              0.0        1.0              0.0       0.0        1.0    0.0   \n",
       "2              0.0        1.0              0.0       0.0        1.0    1.0   \n",
       "3              0.0        1.0              0.0       0.0        1.0    1.0   \n",
       "4              0.0        1.0              0.0       0.0        1.0    1.0   \n",
       "...            ...        ...              ...       ...        ...    ...   \n",
       "188995         0.0        1.0              0.0       0.0        1.0    1.0   \n",
       "188996         0.0        1.0              0.0       0.0        1.0    1.0   \n",
       "188997         0.0        1.0              0.0       0.0        1.0    1.0   \n",
       "188998         0.0        1.0              0.0       0.0        1.0    1.0   \n",
       "188999         1.0        0.0              0.0       0.0        1.0    0.0   \n",
       "\n",
       "        x2_yes         7         8     9        10    11  \n",
       "0          1.0  0.143242  0.586207  0.30  0.428571  0.00  \n",
       "1          1.0  0.811570  0.293103  0.05  0.071429  1.00  \n",
       "2          0.0  0.342000  0.793103  0.05  0.071429  0.50  \n",
       "3          0.0  0.102532  0.103448  0.85  0.571429  0.50  \n",
       "4          0.0  0.378861  0.517241  1.00  0.428571  0.50  \n",
       "...        ...       ...       ...   ...       ...   ...  \n",
       "188995     0.0  0.666301  1.000000  0.20  0.285714  0.50  \n",
       "188996     0.0  0.513951  0.586207  0.20  0.285714  0.75  \n",
       "188997     0.0  0.903086  0.482759  0.25  0.285714  0.00  \n",
       "188998     0.0  0.157654  0.741379  0.45  0.642857  0.00  \n",
       "188999     1.0  0.477911  0.672414  0.95  0.642857  1.00  \n",
       "\n",
       "[189000 rows x 12 columns]"
      ]
     },
     "execution_count": 14,
     "metadata": {},
     "output_type": "execute_result"
    }
   ],
   "source": [
    "new_names1 = preprocessor.transformers_[0][1].get_feature_names()\n",
    "new_x = pd.DataFrame(x_arr)\n",
    "new_x.rename(columns= {i:new_names1[i] for i in range(7)}, inplace=True)\n",
    "new_x"
   ]
  },
  {
   "cell_type": "markdown",
   "id": "fa499476",
   "metadata": {
    "papermill": {
     "duration": 0.035963,
     "end_time": "2021-10-09T18:07:10.134631",
     "exception": false,
     "start_time": "2021-10-09T18:07:10.098668",
     "status": "completed"
    },
    "tags": []
   },
   "source": [
    "# **Evaluating different baseline models**"
   ]
  },
  {
   "cell_type": "markdown",
   "id": "c20699e6",
   "metadata": {
    "papermill": {
     "duration": 0.034691,
     "end_time": "2021-10-09T18:07:10.205254",
     "exception": false,
     "start_time": "2021-10-09T18:07:10.170563",
     "status": "completed"
    },
    "tags": []
   },
   "source": [
    "Models are trained with cost-sensitive methods to account for class imbalance.\n",
    "\n",
    "Cross validation proved to be computationally expensive for this size of dataset so a shuffled stratified split was done."
   ]
  },
  {
   "cell_type": "code",
   "execution_count": 15,
   "id": "8dac8b96",
   "metadata": {
    "execution": {
     "iopub.execute_input": "2021-10-09T18:07:10.279417Z",
     "iopub.status.busy": "2021-10-09T18:07:10.278464Z",
     "iopub.status.idle": "2021-10-09T18:09:23.417499Z",
     "shell.execute_reply": "2021-10-09T18:09:23.418161Z",
     "shell.execute_reply.started": "2021-10-09T16:30:52.911632Z"
    },
    "papermill": {
     "duration": 133.178212,
     "end_time": "2021-10-09T18:09:23.418428",
     "exception": false,
     "start_time": "2021-10-09T18:07:10.240216",
     "status": "completed"
    },
    "tags": []
   },
   "outputs": [
    {
     "name": "stdout",
     "output_type": "stream",
     "text": [
      "> RandomForestClassifier : f2_score: 0.713 , Accuracy score: 0.894 , Roc_Auc_Score: 0.841\n",
      "> LogisticRegression : f2_score: 0.348 , Accuracy score: 0.508 , Roc_Auc_Score: 0.533\n",
      "> KNeighborsClassifier : f2_score: 0.503 , Accuracy score: 0.888 , Roc_Auc_Score: 0.718\n"
     ]
    },
    {
     "name": "stderr",
     "output_type": "stream",
     "text": [
      "/opt/conda/lib/python3.7/site-packages/xgboost/sklearn.py:1146: UserWarning: The use of label encoder in XGBClassifier is deprecated and will be removed in a future release. To remove this warning, do the following: 1) Pass option use_label_encoder=False when constructing XGBClassifier object; and 2) Encode your labels (y) as integers starting with 0, i.e. 0, 1, 2, ..., [num_class - 1].\n",
      "  warnings.warn(label_encoder_deprecation_msg, UserWarning)\n"
     ]
    },
    {
     "name": "stdout",
     "output_type": "stream",
     "text": [
      "> XGBClassifier : f2_score: 0.654 , Accuracy score: 0.820 , Roc_Auc_Score: 0.807\n"
     ]
    }
   ],
   "source": [
    "# def evaluate_model(X, y, model):\n",
    "#     # define evaluation procedure\n",
    "#     cv = RepeatedStratifiedKFold(n_splits=5, n_repeats=3, random_state=42)\n",
    "#     # define the model evaluation metric\n",
    "#     metric = make_scorer(f2_measure)\n",
    "#     # evaluate model\n",
    "#     scores = cross_val_score(model, X, y, scoring=metric, cv=cv, n_jobs=-1)\n",
    "#     return scores\n",
    "def f2_measure(y_true, y_pred): #Modified version of F1 measure for more weight on false negatives\n",
    "    return fbeta_score(y_true, y_pred, beta=2)\n",
    "scale_pos = count[0] / count[1] \n",
    "\n",
    "models = [RandomForestClassifier(class_weight='balanced', random_state=42), LogisticRegression(solver='lbfgs', class_weight='balanced', random_state=42),\n",
    "KNeighborsClassifier(n_jobs=-1,weights='distance'), XGBClassifier(scale_pos_weight = scale_pos, verbosity=0, silent=True) ]\n",
    "#intial cost modified base models to evaluate\n",
    "\n",
    "model_names = ['RandomForestClassifier','LogisticRegression','KNeighborsClassifier', 'XGBClassifier' ]\n",
    "\n",
    "for x in range(len(models)) :\n",
    "    model = models[x] \n",
    "    model.fit(x_arr,y_train)\n",
    "    y_pred = model.predict(x_arr_test)\n",
    "    print('> %s : f2_score: %.3f , Accuracy score: %.3f , Roc_Auc_Score: %.3f' \n",
    "        %(model_names[x],f2_measure(y_test,y_pred),accuracy_score(y_test,y_pred),roc_auc_score(y_test,y_pred)))\n"
   ]
  },
  {
   "cell_type": "markdown",
   "id": "4c39b933",
   "metadata": {
    "papermill": {
     "duration": 0.035587,
     "end_time": "2021-10-09T18:09:23.490431",
     "exception": false,
     "start_time": "2021-10-09T18:09:23.454844",
     "status": "completed"
    },
    "tags": []
   },
   "source": [
    "As seen from the results, Baseline RandomForestClassifier model does a better job than other models with higher f2_score and roc_auc_score of 0.713 and 0.841 respectively."
   ]
  },
  {
   "cell_type": "markdown",
   "id": "acb3ddf7",
   "metadata": {
    "papermill": {
     "duration": 0.03529,
     "end_time": "2021-10-09T18:09:23.561432",
     "exception": false,
     "start_time": "2021-10-09T18:09:23.526142",
     "status": "completed"
    },
    "tags": []
   },
   "source": [
    "# **Resampling Data for target class balancing**"
   ]
  },
  {
   "cell_type": "markdown",
   "id": "1a4664f0",
   "metadata": {
    "papermill": {
     "duration": 0.035737,
     "end_time": "2021-10-09T18:09:23.633043",
     "exception": false,
     "start_time": "2021-10-09T18:09:23.597306",
     "status": "completed"
    },
    "tags": []
   },
   "source": [
    "To Undersample majority class (i.e class 0) : **RandomUnderSampler**\n",
    "\n",
    "To Oversample majority class (i.e class 0) : **SMOTE (Synthetic Minority Over-sampling technique)**"
   ]
  },
  {
   "cell_type": "code",
   "execution_count": 16,
   "id": "f7c7009f",
   "metadata": {
    "execution": {
     "iopub.execute_input": "2021-10-09T18:09:23.710409Z",
     "iopub.status.busy": "2021-10-09T18:09:23.709740Z",
     "iopub.status.idle": "2021-10-09T18:09:23.944079Z",
     "shell.execute_reply": "2021-10-09T18:09:23.943573Z",
     "shell.execute_reply.started": "2021-10-09T17:12:49.395367Z"
    },
    "papermill": {
     "duration": 0.274818,
     "end_time": "2021-10-09T18:09:23.944231",
     "exception": false,
     "start_time": "2021-10-09T18:09:23.669413",
     "status": "completed"
    },
    "tags": []
   },
   "outputs": [
    {
     "name": "stdout",
     "output_type": "stream",
     "text": [
      "No. of samples after Under-Sampling: (69741,)\n"
     ]
    },
    {
     "data": {
      "text/plain": [
       "<AxesSubplot:ylabel='count'>"
      ]
     },
     "execution_count": 16,
     "metadata": {},
     "output_type": "execute_result"
    },
    {
     "data": {
      "image/png": "[encoded data removed]",
      "text/plain": [
       "<Figure size 576x396 with 1 Axes>"
      ]
     },
     "metadata": {},
     "output_type": "display_data"
    }
   ],
   "source": [
    "under_sampler = RandomUnderSampler(sampling_strategy=0.5, random_state=42)\n",
    "x_arr,y_train=under_sampler.fit_resample(x_arr,y_train)\n",
    "\n",
    "print(\"No. of samples after Under-Sampling:\",y_train.shape)\n",
    "sns.countplot(x = y_train)\n"
   ]
  },
  {
   "cell_type": "code",
   "execution_count": 17,
   "id": "4e89aa02",
   "metadata": {
    "execution": {
     "iopub.execute_input": "2021-10-09T18:09:24.024337Z",
     "iopub.status.busy": "2021-10-09T18:09:24.023351Z",
     "iopub.status.idle": "2021-10-09T18:09:29.878003Z",
     "shell.execute_reply": "2021-10-09T18:09:29.877449Z",
     "shell.execute_reply.started": "2021-10-09T17:12:57.953558Z"
    },
    "papermill": {
     "duration": 5.897074,
     "end_time": "2021-10-09T18:09:29.878147",
     "exception": false,
     "start_time": "2021-10-09T18:09:23.981073",
     "status": "completed"
    },
    "tags": []
   },
   "outputs": [
    {
     "name": "stdout",
     "output_type": "stream",
     "text": [
      "No. of samples after Over-Sampling: (92988,)\n"
     ]
    },
    {
     "data": {
      "text/plain": [
       "<AxesSubplot:ylabel='count'>"
      ]
     },
     "execution_count": 17,
     "metadata": {},
     "output_type": "execute_result"
    },
    {
     "data": {
      "image/png": "[encoded data removed]",
      "text/plain": [
       "<Figure size 576x396 with 1 Axes>"
      ]
     },
     "metadata": {},
     "output_type": "display_data"
    }
   ],
   "source": [
    "over_sampler = SMOTE(random_state=42, n_jobs=-1, sampling_strategy=1)\n",
    "x_arr,y_train = over_sampler.fit_resample(x_arr,y_train)\n",
    "print(\"No. of samples after Over-Sampling:\",y_train.shape)\n",
    "sns.countplot(x = y_train)\n"
   ]
  },
  {
   "cell_type": "markdown",
   "id": "3a4bd595",
   "metadata": {
    "papermill": {
     "duration": 0.038066,
     "end_time": "2021-10-09T18:09:29.954589",
     "exception": false,
     "start_time": "2021-10-09T18:09:29.916523",
     "status": "completed"
    },
    "tags": []
   },
   "source": [
    "> **Evaluation after resampling**"
   ]
  },
  {
   "cell_type": "code",
   "execution_count": 18,
   "id": "305f977c",
   "metadata": {
    "execution": {
     "iopub.execute_input": "2021-10-09T18:09:30.038667Z",
     "iopub.status.busy": "2021-10-09T18:09:30.037578Z",
     "iopub.status.idle": "2021-10-09T18:09:34.758060Z",
     "shell.execute_reply": "2021-10-09T18:09:34.758568Z",
     "shell.execute_reply.started": "2021-10-09T16:35:36.497441Z"
    },
    "papermill": {
     "duration": 4.765978,
     "end_time": "2021-10-09T18:09:34.758753",
     "exception": false,
     "start_time": "2021-10-09T18:09:29.992775",
     "status": "completed"
    },
    "tags": []
   },
   "outputs": [
    {
     "name": "stdout",
     "output_type": "stream",
     "text": [
      "Fitting done\n",
      "> Resampled_result : f2_score: 0.726 , Accuracy score: 0.875 , Roc_Auc_Score: 0.852 \n"
     ]
    }
   ],
   "source": [
    "model = RandomForestClassifier(n_jobs=-1, random_state=42,class_weight='balanced')\n",
    "model.fit(x_arr,y_train)\n",
    "print(\"Fitting done\")\n",
    "y_pred = model.predict(x_arr_test)\n",
    "print('> %s : f2_score: %.3f , Accuracy score: %.3f , Roc_Auc_Score: %.3f ' %('Resampled_result',f2_measure(y_test,y_pred),accuracy_score(y_test,y_pred),roc_auc_score(y_test,y_pred)))\n"
   ]
  },
  {
   "cell_type": "markdown",
   "id": "67cbf48c",
   "metadata": {
    "papermill": {
     "duration": 0.037981,
     "end_time": "2021-10-09T18:09:34.836206",
     "exception": false,
     "start_time": "2021-10-09T18:09:34.798225",
     "status": "completed"
    },
    "tags": []
   },
   "source": [
    "# **Hyperparameter tuning using 3 fold RandomSearchCV**"
   ]
  },
  {
   "cell_type": "code",
   "execution_count": 19,
   "id": "f5bf0b5c",
   "metadata": {
    "execution": {
     "iopub.execute_input": "2021-10-09T18:09:34.917659Z",
     "iopub.status.busy": "2021-10-09T18:09:34.916705Z",
     "iopub.status.idle": "2021-10-09T18:09:34.925498Z",
     "shell.execute_reply": "2021-10-09T18:09:34.924824Z",
     "shell.execute_reply.started": "2021-10-09T16:36:26.786594Z"
    },
    "papermill": {
     "duration": 0.050599,
     "end_time": "2021-10-09T18:09:34.925686",
     "exception": false,
     "start_time": "2021-10-09T18:09:34.875087",
     "status": "completed"
    },
    "tags": []
   },
   "outputs": [
    {
     "name": "stdout",
     "output_type": "stream",
     "text": [
      "{'n_estimators': [200, 400, 600, 800, 1000, 1200, 1400, 1600, 1800, 2000], 'max_features': ['auto', 'sqrt'], 'max_depth': [10, 20, 30, 40, 50, 60, 70, 80, 90, 100, 110, None], 'min_samples_split': [2, 5, 10], 'min_samples_leaf': [1, 2, 4], 'bootstrap': [True, False]}\n"
     ]
    }
   ],
   "source": [
    "# Number of trees in random forest\n",
    "n_estimators = [int(x) for x in np.linspace(start = 200, stop = 2000, num = 10)]\n",
    "# Number of features to consider at every split\n",
    "max_features = ['auto', 'sqrt']\n",
    "# Maximum number of levels in tree\n",
    "max_depth = [int(x) for x in np.linspace(10, 110, num = 11)]\n",
    "max_depth.append(None)\n",
    "# Minimum number of samples required to split a node\n",
    "min_samples_split = [2, 5, 10]\n",
    "# Minimum number of samples required at each leaf node\n",
    "min_samples_leaf = [1, 2, 4]\n",
    "# Method of selecting samples for training each tree\n",
    "bootstrap = [True, False]\n",
    "# Create the random grid\n",
    "random_grid = {'n_estimators': n_estimators,\n",
    "               'max_features': max_features,\n",
    "               'max_depth': max_depth,\n",
    "               'min_samples_split': min_samples_split,\n",
    "               'min_samples_leaf': min_samples_leaf,\n",
    "               'bootstrap': bootstrap}\n",
    "print(random_grid)"
   ]
  },
  {
   "cell_type": "code",
   "execution_count": 20,
   "id": "02544225",
   "metadata": {
    "execution": {
     "iopub.execute_input": "2021-10-09T18:09:35.012232Z",
     "iopub.status.busy": "2021-10-09T18:09:35.011547Z",
     "iopub.status.idle": "2021-10-09T18:28:39.672832Z",
     "shell.execute_reply": "2021-10-09T18:28:39.673501Z",
     "shell.execute_reply.started": "2021-10-09T16:36:33.433699Z"
    },
    "papermill": {
     "duration": 1144.708016,
     "end_time": "2021-10-09T18:28:39.673862",
     "exception": false,
     "start_time": "2021-10-09T18:09:34.965846",
     "status": "completed"
    },
    "tags": []
   },
   "outputs": [
    {
     "name": "stdout",
     "output_type": "stream",
     "text": [
      "Fitting 3 folds for each of 10 candidates, totalling 30 fits\n"
     ]
    },
    {
     "name": "stderr",
     "output_type": "stream",
     "text": [
      "[Parallel(n_jobs=-1)]: Using backend LokyBackend with 4 concurrent workers.\n",
      "/opt/conda/lib/python3.7/site-packages/joblib/externals/loky/process_executor.py:691: UserWarning: A worker stopped while some jobs were given to the executor. This can be caused by a too short worker timeout or by a memory leak.\n",
      "  \"timeout or by a memory leak.\", UserWarning\n",
      "[Parallel(n_jobs=-1)]: Done  30 out of  30 | elapsed: 18.2min finished\n"
     ]
    },
    {
     "name": "stdout",
     "output_type": "stream",
     "text": [
      "Fitting done\n",
      "{'n_estimators': 400, 'min_samples_split': 10, 'min_samples_leaf': 1, 'max_features': 'sqrt', 'max_depth': 60, 'bootstrap': False}\n",
      "> Random_search_result , f2_score: 0.726 , Accuracy score: 0.874 , Roc_Auc_Score: 0.852 \n"
     ]
    }
   ],
   "source": [
    "rf_random = RandomizedSearchCV(estimator = model, param_distributions = random_grid, cv = 3, verbose=True, random_state=42, n_jobs = -1)\n",
    "rf_random.fit(x_arr,y_train)\n",
    "best_random = rf_random.best_estimator_\n",
    "best_random.fit(x_arr,y_train)\n",
    "print(\"Fitting done\")\n",
    "print(rf_random.best_params_)\n",
    "y_pred = best_random.predict(x_arr_test)\n",
    "print('> %s , f2_score: %.3f , Accuracy score: %.3f , Roc_Auc_Score: %.3f ' %('Random_search_result',f2_measure(y_test,y_pred),accuracy_score(y_test,y_pred),roc_auc_score(y_test,y_pred)))\n"
   ]
  },
  {
   "cell_type": "markdown",
   "id": "0dc81ed3",
   "metadata": {
    "papermill": {
     "duration": 0.040878,
     "end_time": "2021-10-09T18:28:39.755404",
     "exception": false,
     "start_time": "2021-10-09T18:28:39.714526",
     "status": "completed"
    },
    "tags": []
   },
   "source": [
    "Random_search_result , f2_score: 0.724 , Accuracy score: 0.873 , Roc_Auc_Score: 0.851  \n",
    "\n",
    "There is hardly any improvement in the results after random search, one of the reasons could be the loss of data because of resampling \n",
    "but if the data samples were higher in number than it would be computationally very expensive to find optimal hyperparameters using RandomSearchCV."
   ]
  },
  {
   "cell_type": "markdown",
   "id": "b316e0c7",
   "metadata": {
    "papermill": {
     "duration": 0.040372,
     "end_time": "2021-10-09T18:28:39.836216",
     "exception": false,
     "start_time": "2021-10-09T18:28:39.795844",
     "status": "completed"
    },
    "tags": []
   },
   "source": [
    "# **Configuring Final Pipeline for analysis**"
   ]
  },
  {
   "cell_type": "code",
   "execution_count": 21,
   "id": "169f5723",
   "metadata": {
    "execution": {
     "iopub.execute_input": "2021-10-09T18:28:39.933905Z",
     "iopub.status.busy": "2021-10-09T18:28:39.933214Z",
     "iopub.status.idle": "2021-10-09T18:29:12.107773Z",
     "shell.execute_reply": "2021-10-09T18:29:12.108285Z",
     "shell.execute_reply.started": "2021-10-09T17:14:11.583079Z"
    },
    "papermill": {
     "duration": 32.231137,
     "end_time": "2021-10-09T18:29:12.108455",
     "exception": false,
     "start_time": "2021-10-09T18:28:39.877318",
     "status": "completed"
    },
    "tags": []
   },
   "outputs": [
    {
     "name": "stdout",
     "output_type": "stream",
     "text": [
      "> Final_evaluation_score : f2_score: 0.726 , Accuracy score: 0.874 , Roc_Auc_Score: 0.852 \n"
     ]
    }
   ],
   "source": [
    "def load_data(file_path):\n",
    "    data=pd.read_csv(file_path,index_col='Id')\n",
    "    for train_index, test_index in sss.split(df,df[\"Risk_Flag\"]):\n",
    "        sss_train = df.iloc[train_index]\n",
    "        sss_test = df.iloc[test_index]\n",
    "    X_train= sss_train.drop(['Risk_Flag','Profession','STATE','CITY'], axis=1)\n",
    "    X_val= sss_test.drop(['Risk_Flag','Profession','STATE','CITY'], axis=1)\n",
    "    Y_train = sss_train.Risk_Flag\n",
    "    Y_val = sss_test.Risk_Flag\n",
    "    return X_train,X_val,Y_train,Y_val\n",
    "\n",
    "X_train,X_val,Y_train,Y_val  = load_data('/kaggle/input/loan-prediction-based-on-customer-behavior/Training Data.csv')\n",
    "Y_train,Y_val = np.array(Y_train), np.array(Y_val)\n",
    "\n",
    "final_model = RandomForestClassifier(n_estimators= 400, min_samples_split= 10, min_samples_leaf= 1, max_features='sqrt',\n",
    "                                     class_weight='balanced',n_jobs=-1,random_state=42,max_depth= 60, bootstrap=False)\n",
    "config =[('pre',preprocessor),('u',under_sampler),('o',over_sampler),('m',final_model)]\n",
    "pipeline = Pipeline(steps=config)\n",
    "pipeline.fit(X_train,Y_train)\n",
    "Y_pred = pipeline.predict(X_val)\n",
    "\n",
    "print('> %s : f2_score: %.3f , Accuracy score: %.3f , Roc_Auc_Score: %.3f ' \n",
    "      %('Final_evaluation_score',f2_measure(Y_val,Y_pred),accuracy_score(Y_val,Y_pred),roc_auc_score(Y_val,Y_pred)))\n"
   ]
  },
  {
   "cell_type": "code",
   "execution_count": 22,
   "id": "4de764d9",
   "metadata": {
    "execution": {
     "iopub.execute_input": "2021-10-09T18:29:12.196018Z",
     "iopub.status.busy": "2021-10-09T18:29:12.195385Z",
     "iopub.status.idle": "2021-10-09T18:29:17.384645Z",
     "shell.execute_reply": "2021-10-09T18:29:17.385099Z",
     "shell.execute_reply.started": "2021-10-09T17:03:45.044906Z"
    },
    "papermill": {
     "duration": 5.235944,
     "end_time": "2021-10-09T18:29:17.385273",
     "exception": false,
     "start_time": "2021-10-09T18:29:12.149329",
     "status": "completed"
    },
    "tags": []
   },
   "outputs": [
    {
     "data": {
      "image/png": "[encoded data removed]",
      "text/plain": [
       "<Figure size 576x396 with 2 Axes>"
      ]
     },
     "metadata": {},
     "output_type": "display_data"
    },
    {
     "data": {
      "text/plain": [
       "<AxesSubplot:title={'center':'RandomForestClassifier Classification Report'}>"
      ]
     },
     "execution_count": 22,
     "metadata": {},
     "output_type": "execute_result"
    }
   ],
   "source": [
    "classes = [\"0\", \"1\"]\n",
    "visualizer = ClassificationReport(pipeline, classes=classes, support=True)\n",
    "visualizer.fit(X_train, Y_train)        # Fit the visualizer and the model\n",
    "visualizer.score(X_val, Y_val)        # Evaluate the model on the test data\n",
    "visualizer.show()                       # Finalize and show the figure\n",
    "\n"
   ]
  },
  {
   "cell_type": "code",
   "execution_count": 23,
   "id": "bb154b8a",
   "metadata": {
    "execution": {
     "iopub.execute_input": "2021-10-09T18:29:17.475226Z",
     "iopub.status.busy": "2021-10-09T18:29:17.474591Z",
     "iopub.status.idle": "2021-10-09T18:29:17.628103Z",
     "shell.execute_reply": "2021-10-09T18:29:17.628908Z",
     "shell.execute_reply.started": "2021-10-09T17:19:10.777676Z"
    },
    "papermill": {
     "duration": 0.202315,
     "end_time": "2021-10-09T18:29:17.629177",
     "exception": false,
     "start_time": "2021-10-09T18:29:17.426862",
     "status": "completed"
    },
    "tags": []
   },
   "outputs": [
    {
     "data": {
      "text/plain": [
       "Text(0.5, 1.0, 'Confusion  Matrix')"
      ]
     },
     "execution_count": 23,
     "metadata": {},
     "output_type": "execute_result"
    },
    {
     "data": {
      "image/png": "[encoded data removed]",
      "text/plain": [
       "<Figure size 576x396 with 1 Axes>"
      ]
     },
     "metadata": {},
     "output_type": "display_data"
    }
   ],
   "source": [
    "#Visualizing confusion matrix using seaborn\n",
    "sns.heatmap(confusion_matrix(Y_val,Y_pred),annot=True,cbar=False,cmap= 'YlGnBu')\n",
    "plt.xlabel(\"Predicted label\") # predictions go on the x-axis\n",
    "plt.ylabel(\"True label\") # true labels go on the y-axis \n",
    "plt.title(\"Confusion  Matrix\")"
   ]
  },
  {
   "cell_type": "code",
   "execution_count": 24,
   "id": "fa822020",
   "metadata": {
    "execution": {
     "iopub.execute_input": "2021-10-09T18:29:17.744538Z",
     "iopub.status.busy": "2021-10-09T18:29:17.743891Z",
     "iopub.status.idle": "2021-10-09T18:29:20.335453Z",
     "shell.execute_reply": "2021-10-09T18:29:20.335902Z",
     "shell.execute_reply.started": "2021-10-09T17:03:55.893726Z"
    },
    "papermill": {
     "duration": 2.645338,
     "end_time": "2021-10-09T18:29:20.336095",
     "exception": false,
     "start_time": "2021-10-09T18:29:17.690757",
     "status": "completed"
    },
    "tags": []
   },
   "outputs": [
    {
     "data": {
      "text/plain": [
       "<sklearn.metrics._plot.roc_curve.RocCurveDisplay at 0x7f2754f56f10>"
      ]
     },
     "execution_count": 24,
     "metadata": {},
     "output_type": "execute_result"
    },
    {
     "data": {
      "image/png": "[encoded data removed]",
      "text/plain": [
       "<Figure size 576x396 with 1 Axes>"
      ]
     },
     "metadata": {},
     "output_type": "display_data"
    }
   ],
   "source": [
    "plot_roc_curve(pipeline,X_val,Y_val)"
   ]
  },
  {
   "cell_type": "markdown",
   "id": "f556dcc3",
   "metadata": {
    "papermill": {
     "duration": 0.043621,
     "end_time": "2021-10-09T18:29:20.423484",
     "exception": false,
     "start_time": "2021-10-09T18:29:20.379863",
     "status": "completed"
    },
    "tags": []
   },
   "source": [
    "**Submission of Test Results**"
   ]
  },
  {
   "cell_type": "code",
   "execution_count": 25,
   "id": "421ea5f9",
   "metadata": {
    "execution": {
     "iopub.execute_input": "2021-10-09T18:29:20.516578Z",
     "iopub.status.busy": "2021-10-09T18:29:20.515929Z",
     "iopub.status.idle": "2021-10-09T18:29:21.761478Z",
     "shell.execute_reply": "2021-10-09T18:29:21.760947Z",
     "shell.execute_reply.started": "2021-10-09T17:06:41.691045Z"
    },
    "papermill": {
     "duration": 1.29286,
     "end_time": "2021-10-09T18:29:21.761633",
     "exception": false,
     "start_time": "2021-10-09T18:29:20.468773",
     "status": "completed"
    },
    "tags": []
   },
   "outputs": [],
   "source": [
    "test_data=pd.read_csv('/kaggle/input/loan-prediction-based-on-customer-behavior/Test Data.csv', index_col='ID')\n",
    "test_data = test_data.drop(['Profession','STATE','CITY'], axis=1)\n",
    "y_final = pipeline.predict(test_data)\n",
    "my_submission = pd.DataFrame({'id': test_data.index, 'risk_flag': y_final})\n",
    "my_submission.to_csv('submission.csv', index=False)"
   ]
  }
 ],
 "metadata": {
  "kernelspec": {
   "display_name": "Python 3",
   "language": "python",
   "name": "python3"
  },
  "language_info": {
   "codemirror_mode": {
    "name": "ipython",
    "version": 3
   },
   "file_extension": ".py",
   "mimetype": "text/x-python",
   "name": "python",
   "nbconvert_exporter": "python",
   "pygments_lexer": "ipython3",
   "version": "3.7.10"
  },
  "papermill": {
   "default_parameters": {},
   "duration": 1349.185616,
   "end_time": "2021-10-09T18:29:23.451189",
   "environment_variables": {},
   "exception": null,
   "input_path": "__notebook__.ipynb",
   "output_path": "__notebook__.ipynb",
   "parameters": {},
   "start_time": "2021-10-09T18:06:54.265573",
   "version": "2.3.3"
  }
 },
 "nbformat": 4,
 "nbformat_minor": 5
}
